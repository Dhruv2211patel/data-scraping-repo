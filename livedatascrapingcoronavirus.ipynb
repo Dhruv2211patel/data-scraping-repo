{
  "nbformat": 4,
  "nbformat_minor": 0,
  "metadata": {
    "colab": {
      "name": "dhruv.ipynb",
      "provenance": [],
      "collapsed_sections": [],
      "authorship_tag": "ABX9TyOzYfiV3e7iC7EGxFJK1a2J",
      "include_colab_link": true
    },
    "kernelspec": {
      "name": "python3",
      "display_name": "Python 3"
    }
  },
  "cells": [
    {
      "cell_type": "markdown",
      "metadata": {
        "id": "view-in-github",
        "colab_type": "text"
      },
      "source": [
        "<a href=\"https://colab.research.google.com/github/Dhruv2211patel/my-first-repo/blob/master/livedatascrapingcoronavirus.ipynb\" target=\"_parent\"><img src=\"https://colab.research.google.com/assets/colab-badge.svg\" alt=\"Open In Colab\"/></a>"
      ]
    },
    {
      "cell_type": "code",
      "metadata": {
        "id": "FZc47oBCZICP",
        "colab_type": "code",
        "colab": {}
      },
      "source": [
        "# import module\n",
        "from bs4 import BeautifulSoup # web scraping\n",
        "import requests # replacement of URLLIB\n",
        "import time # to give some delay mssg\n",
        "\n"
      ],
      "execution_count": 0,
      "outputs": []
    },
    {
      "cell_type": "code",
      "metadata": {
        "id": "UNn8ZAP4Z18B",
        "colab_type": "code",
        "colab": {}
      },
      "source": [
        "# now taking corona live data set\n",
        "url='https://www.worldometers.info/coronavirus/'\n",
        "# now connectint with https protocol\n",
        "htmlpage=requests.get(url)"
      ],
      "execution_count": 0,
      "outputs": []
    },
    {
      "cell_type": "code",
      "metadata": {
        "id": "q4fm5DwkcYAH",
        "colab_type": "code",
        "colab": {}
      },
      "source": [
        "# print info\n",
        "purehtmlpage=htmlpage.content\n",
        "soup=BeautifulSoup(purehtmlpage,'html5lib') # Souping\n"
      ],
      "execution_count": 0,
      "outputs": []
    },
    {
      "cell_type": "code",
      "metadata": {
        "id": "Nobqht_PdQwh",
        "colab_type": "code",
        "outputId": "9118b64c-2131-4985-bfaa-a7dc281ffe98",
        "colab": {
          "base_uri": "https://localhost:8080/",
          "height": 34
        }
      },
      "source": [
        "print(type(soup))\n",
        "\n"
      ],
      "execution_count": 6,
      "outputs": [
        {
          "output_type": "stream",
          "text": [
            "<class 'bs4.BeautifulSoup'>\n"
          ],
          "name": "stdout"
        }
      ]
    },
    {
      "cell_type": "code",
      "metadata": {
        "id": "mjSbncyBgR8p",
        "colab_type": "code",
        "colab": {}
      },
      "source": [
        "tb=soup.find_all('table',class_=\"table table-bordered table-hover main_table_countries\")\n"
      ],
      "execution_count": 0,
      "outputs": []
    },
    {
      "cell_type": "code",
      "metadata": {
        "id": "dtQAUDvEhgr4",
        "colab_type": "code",
        "outputId": "f16fbcdc-4134-4c53-92f1-6fa2853eef42",
        "colab": {
          "base_uri": "https://localhost:8080/",
          "height": 208
        }
      },
      "source": [
        "# findinf all table rows\n",
        "for trr in tb[0].find_all('tr'):\n",
        "  for rows in trr.find_all('th'):\n",
        "    print(rows.text)\n",
        "    "
      ],
      "execution_count": 8,
      "outputs": [
        {
          "output_type": "stream",
          "text": [
            "Country,Other\n",
            "TotalCases\n",
            "NewCases\n",
            "TotalDeaths\n",
            "NewDeaths\n",
            "TotalRecovered\n",
            "ActiveCases\n",
            "Serious,Critical\n",
            "Tot Cases/1M pop\n",
            "Deaths/1M pop\n",
            "1stcase\n"
          ],
          "name": "stdout"
        }
      ]
    },
    {
      "cell_type": "code",
      "metadata": {
        "id": "aHPnSOQumR5s",
        "colab_type": "code",
        "outputId": "123a8344-7601-4ddf-a8f0-21034943c44f",
        "colab": {
          "base_uri": "https://localhost:8080/",
          "height": 270
        }
      },
      "source": [
        "# now scraping data for each row with each normal country data\n",
        "for trr1 in tb[0].find_all('tr'):\n",
        "  for rows in trr1.find_all('td'):\n",
        "    print(rows.text)\n",
        "    time.sleep(1)"
      ],
      "execution_count": 11,
      "outputs": [
        {
          "output_type": "stream",
          "text": [
            "USA\n",
            "104,277\n",
            "+151\n",
            "1,704 \n"
          ],
          "name": "stdout"
        },
        {
          "output_type": "error",
          "ename": "KeyboardInterrupt",
          "evalue": "ignored",
          "traceback": [
            "\u001b[0;31m---------------------------------------------------------------------------\u001b[0m",
            "\u001b[0;31mKeyboardInterrupt\u001b[0m                         Traceback (most recent call last)",
            "\u001b[0;32m<ipython-input-11-477ba8a7dae0>\u001b[0m in \u001b[0;36m<module>\u001b[0;34m()\u001b[0m\n\u001b[1;32m      2\u001b[0m   \u001b[0;32mfor\u001b[0m \u001b[0mrows\u001b[0m \u001b[0;32min\u001b[0m \u001b[0mtrr1\u001b[0m\u001b[0;34m.\u001b[0m\u001b[0mfind_all\u001b[0m\u001b[0;34m(\u001b[0m\u001b[0;34m'td'\u001b[0m\u001b[0;34m)\u001b[0m\u001b[0;34m:\u001b[0m\u001b[0;34m\u001b[0m\u001b[0;34m\u001b[0m\u001b[0m\n\u001b[1;32m      3\u001b[0m     \u001b[0mprint\u001b[0m\u001b[0;34m(\u001b[0m\u001b[0mrows\u001b[0m\u001b[0;34m.\u001b[0m\u001b[0mtext\u001b[0m\u001b[0;34m)\u001b[0m\u001b[0;34m\u001b[0m\u001b[0;34m\u001b[0m\u001b[0m\n\u001b[0;32m----> 4\u001b[0;31m     \u001b[0mtime\u001b[0m\u001b[0;34m.\u001b[0m\u001b[0msleep\u001b[0m\u001b[0;34m(\u001b[0m\u001b[0;36m1\u001b[0m\u001b[0;34m)\u001b[0m\u001b[0;34m\u001b[0m\u001b[0;34m\u001b[0m\u001b[0m\n\u001b[0m",
            "\u001b[0;31mKeyboardInterrupt\u001b[0m: "
          ]
        }
      ]
    }
  ]
}